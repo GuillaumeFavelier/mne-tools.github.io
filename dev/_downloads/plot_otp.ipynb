{
  "nbformat_minor": 0, 
  "nbformat": 4, 
  "cells": [
    {
      "execution_count": null, 
      "cell_type": "code", 
      "source": [
        "%matplotlib inline"
      ], 
      "outputs": [], 
      "metadata": {
        "collapsed": false
      }
    }, 
    {
      "source": [
        "\n# Plot sensor denoising using oversampled temporal projection\n\n\nThis demonstrates denoising using the OTP algorithm [1]_ on data with\nwith sensor artifacts (flux jumps) and random noise.\n\n"
      ], 
      "cell_type": "markdown", 
      "metadata": {}
    }, 
    {
      "execution_count": null, 
      "cell_type": "code", 
      "source": [
        "# Author: Eric Larson <larson.eric.d@gmail.com>\n#\n# License: BSD (3-clause)\n\nimport os.path as op\nimport mne\nimport numpy as np\n\nfrom mne import find_events, fit_dipole\nfrom mne.datasets.brainstorm import bst_phantom_elekta\nfrom mne.io import read_raw_fif\n\nprint(__doc__)"
      ], 
      "outputs": [], 
      "metadata": {
        "collapsed": false
      }
    }, 
    {
      "source": [
        "Plot the phantom data, lowpassed to get rid of high-frequency artifacts.\nWe also crop to a single 10-second segment for speed.\nNotice that there are two large flux jumps on channel 1522 that could\nspread to other channels when performing subsequent spatial operations\n(e.g., Maxwell filtering, SSP, or ICA).\n\n"
      ], 
      "cell_type": "markdown", 
      "metadata": {}
    }, 
    {
      "execution_count": null, 
      "cell_type": "code", 
      "source": [
        "dipole_number = 1\ndata_path = bst_phantom_elekta.data_path()\nraw = read_raw_fif(\n    op.join(data_path, 'kojak_all_200nAm_pp_no_chpi_no_ms_raw.fif'))\nraw.crop(40., 50.).load_data()\norder = list(range(160, 170))\nraw.copy().filter(0., 40.).plot(order=order, n_channels=10)"
      ], 
      "outputs": [], 
      "metadata": {
        "collapsed": false
      }
    }, 
    {
      "source": [
        "Now we can clean the data with OTP, lowpass, and plot. The flux jumps have\nbeen suppressed alongside the random sensor noise.\n\n"
      ], 
      "cell_type": "markdown", 
      "metadata": {}
    }, 
    {
      "execution_count": null, 
      "cell_type": "code", 
      "source": [
        "raw_clean = mne.preprocessing.oversampled_temporal_projection(raw)\nraw_clean.filter(0., 40.)\nraw_clean.plot(order=order, n_channels=10)"
      ], 
      "outputs": [], 
      "metadata": {
        "collapsed": false
      }
    }, 
    {
      "source": [
        "We can also look at the effect on single-trial phantom localization.\nSee the `sphx_glr_auto_tutorials_plot_brainstorm_phantom_elekta.py`\nfor more information. Here we use a version that does single-trial\nlocalization across the 17 trials are in our 10-second window:\n\n"
      ], 
      "cell_type": "markdown", 
      "metadata": {}
    }, 
    {
      "execution_count": null, 
      "cell_type": "code", 
      "source": [
        "def compute_bias(raw):\n    events = find_events(raw, 'STI201', verbose=False)\n    events = events[1:]  # first one has an artifact\n    tmin, tmax = -0.2, 0.1\n    epochs = mne.Epochs(raw, events, dipole_number, tmin, tmax,\n                        baseline=(None, -0.01), preload=True, verbose=False)\n    sphere = mne.make_sphere_model(r0=(0., 0., 0.), head_radius=None,\n                                   verbose=False)\n    cov = mne.compute_covariance(epochs, tmax=0, method='shrunk',\n                                 verbose=False)\n    idx = epochs.time_as_index(0.036)[0]\n    data = epochs.get_data()[:, :, idx].T\n    evoked = mne.EvokedArray(data, epochs.info, tmin=0.)\n    dip = fit_dipole(evoked, cov, sphere, n_jobs=1, verbose=False)[0]\n    actual_pos = mne.dipole.get_phantom_dipoles()[0][dipole_number - 1]\n    misses = 1000 * np.linalg.norm(dip.pos - actual_pos, axis=-1)\n    return misses\n\n\nbias = compute_bias(raw)\nprint('Raw bias: %0.1fmm (worst: %0.1fmm)'\n      % (np.mean(bias), np.max(bias)))\nbias_clean = compute_bias(raw_clean)\nprint('OTP bias: %0.1fmm (worst: %0.1fmm)'\n      % (np.mean(bias_clean), np.max(bias_clean),))"
      ], 
      "outputs": [], 
      "metadata": {
        "collapsed": false
      }
    }, 
    {
      "source": [
        "References\n----------\n.. [1] Larson E, Taulu S (2017). Reducing Sensor Noise in MEG and EEG\n       Recordings Using Oversampled Temporal Projection.\n       IEEE Transactions on Biomedical Engineering.\n\n"
      ], 
      "cell_type": "markdown", 
      "metadata": {}
    }
  ], 
  "metadata": {
    "kernelspec": {
      "display_name": "Python 2", 
      "name": "python2", 
      "language": "python"
    }, 
    "language_info": {
      "mimetype": "text/x-python", 
      "nbconvert_exporter": "python", 
      "name": "python", 
      "file_extension": ".py", 
      "version": "2.7.14", 
      "pygments_lexer": "ipython2", 
      "codemirror_mode": {
        "version": 2, 
        "name": "ipython"
      }
    }
  }
}