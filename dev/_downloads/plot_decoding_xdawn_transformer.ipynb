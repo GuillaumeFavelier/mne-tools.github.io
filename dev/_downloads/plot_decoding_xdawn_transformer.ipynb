{
  "nbformat_minor": 0, 
  "nbformat": 4, 
  "cells": [
    {
      "execution_count": null, 
      "cell_type": "code", 
      "source": [
        "%matplotlib inline"
      ], 
      "outputs": [], 
      "metadata": {
        "collapsed": false
      }
    }, 
    {
      "source": [
        "\n# Minimal example for using scikit-learn pipeline\n\n\nThis example creates a scikit-learn pipeline with mne transformers.\n\n\n"
      ], 
      "cell_type": "markdown", 
      "metadata": {}
    }, 
    {
      "execution_count": null, 
      "cell_type": "code", 
      "source": [
        "# Authors: Asish Panda <asishrocks95@gmail.com>\n#\n# License: BSD (3-clause)\n\nfrom sklearn.cross_validation import cross_val_score\nfrom sklearn.pipeline import make_pipeline\nfrom sklearn.linear_model import LogisticRegression\nfrom sklearn.preprocessing import label_binarize\n\nfrom mne import io, pick_types, read_events, Epochs\nfrom mne.datasets import sample\nfrom mne.decoding import Vectorizer\nfrom mne.preprocessing import XdawnTransformer\n\ndata_path = sample.data_path()\n\n\nraw_fname = data_path + '/MEG/sample/sample_audvis_filt-0-40_raw.fif'\nevent_fname = data_path + '/MEG/sample/sample_audvis_filt-0-40_raw-eve.fif'\ntmin, tmax = -0.1, 0.3\nevent_id = dict(aud_l=1, vis_l=3)\n\n# Setup for reading the raw data\nraw = io.read_raw_fif(raw_fname, preload=True)\nraw.filter(1, 20, method='iir')\nevents = read_events(event_fname)\n\npicks = pick_types(raw.info, meg=False, eeg=True, stim=False, eog=False,\n                   exclude='bads')\n\nepochs = Epochs(raw, events, event_id, tmin, tmax, proj=False,\n                picks=picks, baseline=None, preload=True,\n                add_eeg_ref=False, verbose=False)\n\nX = epochs.get_data()\ny = label_binarize(epochs.events[:, 2], classes=[1, 3]).ravel()\n\nclf = make_pipeline(XdawnTransformer(n_components=3),\n                    Vectorizer(),\n                    LogisticRegression())\nscore = cross_val_score(clf, X, y, cv=5)\nprint(score)"
      ], 
      "outputs": [], 
      "metadata": {
        "collapsed": false
      }
    }
  ], 
  "metadata": {
    "kernelspec": {
      "display_name": "Python 2", 
      "name": "python2", 
      "language": "python"
    }, 
    "language_info": {
      "mimetype": "text/x-python", 
      "nbconvert_exporter": "python", 
      "name": "python", 
      "file_extension": ".py", 
      "version": "2.7.12", 
      "pygments_lexer": "ipython2", 
      "codemirror_mode": {
        "version": 2, 
        "name": "ipython"
      }
    }
  }
}