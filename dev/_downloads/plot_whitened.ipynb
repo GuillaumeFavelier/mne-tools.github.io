{
  "nbformat_minor": 0, 
  "nbformat": 4, 
  "cells": [
    {
      "execution_count": null, 
      "cell_type": "code", 
      "source": [
        "%matplotlib inline"
      ], 
      "outputs": [], 
      "metadata": {
        "collapsed": false
      }
    }, 
    {
      "source": [
        "\nPlotting whitened data\n======================\n\nThe aim of this tutorial is to show you how to plot whitened data.\n\nData are whitened for many processes, including dipole fitting, source\nlocalization and some decoding algorithms. Viewing whitened data thus gives\na different perspective on the data that these algorithms operate on.\n\nLet's start by loading some data and computing a signal (spatial) covariance\nthat we'll consider to be noise.\n\n"
      ], 
      "cell_type": "markdown", 
      "metadata": {}
    }, 
    {
      "execution_count": null, 
      "cell_type": "code", 
      "source": [
        "import mne\nfrom mne.datasets import sample"
      ], 
      "outputs": [], 
      "metadata": {
        "collapsed": false
      }
    }, 
    {
      "source": [
        "Raw data with whitening\n-----------------------\n<div class=\"alert alert-info\"><h4>Note</h4><p>In the :meth:`mne.io.Raw.plot` with ``noise_cov`` supplied,\n          you can press they \"w\" key to turn whitening on and off.</p></div>\n\n"
      ], 
      "cell_type": "markdown", 
      "metadata": {}
    }, 
    {
      "execution_count": null, 
      "cell_type": "code", 
      "source": [
        "data_path = sample.data_path()\nraw_fname = data_path + '/MEG/sample/sample_audvis_filt-0-40_raw.fif'\nraw = mne.io.read_raw_fif(raw_fname, preload=True)\n\nevents = mne.find_events(raw, stim_channel='STI 014')\nevent_id = {'auditory/left': 1, 'auditory/right': 2, 'visual/left': 3,\n            'visual/right': 4, 'smiley': 5, 'button': 32}\nreject = dict(grad=4000e-13, mag=4e-12, eog=150e-6)\nepochs = mne.Epochs(raw, events, event_id=event_id, reject=reject)\n\n# baseline noise cov, not a lot of samples\nnoise_cov = mne.compute_covariance(epochs, tmax=0., method='shrunk',\n                                   verbose='error')\n\n# butterfly mode shows the differences most clearly\nraw.plot(events=events, butterfly=True)\nraw.plot(noise_cov=noise_cov, events=events, butterfly=True)"
      ], 
      "outputs": [], 
      "metadata": {
        "collapsed": false
      }
    }, 
    {
      "source": [
        "Epochs with whitening\n---------------------\n\n"
      ], 
      "cell_type": "markdown", 
      "metadata": {}
    }, 
    {
      "execution_count": null, 
      "cell_type": "code", 
      "source": [
        "epochs.plot()\nepochs.plot(noise_cov=noise_cov)"
      ], 
      "outputs": [], 
      "metadata": {
        "collapsed": false
      }
    }, 
    {
      "source": [
        "Evoked data with whitening\n--------------------------\n\n"
      ], 
      "cell_type": "markdown", 
      "metadata": {}
    }, 
    {
      "execution_count": null, 
      "cell_type": "code", 
      "source": [
        "evoked = epochs.average()\nevoked.plot()\nevoked.plot(noise_cov=noise_cov)"
      ], 
      "outputs": [], 
      "metadata": {
        "collapsed": false
      }
    }, 
    {
      "source": [
        "Evoked data with scaled whitening\n---------------------------------\nThe :meth:`mne.Evoked.plot_white` function takes an additional step of\nscaling the whitened plots to show how well the assumption of Gaussian\nnoise is satisfied by the data:\n\n"
      ], 
      "cell_type": "markdown", 
      "metadata": {}
    }, 
    {
      "execution_count": null, 
      "cell_type": "code", 
      "source": [
        "evoked.plot_white(noise_cov=noise_cov)"
      ], 
      "outputs": [], 
      "metadata": {
        "collapsed": false
      }
    }, 
    {
      "source": [
        "Topographic plot with whitening\n-------------------------------\n\n"
      ], 
      "cell_type": "markdown", 
      "metadata": {}
    }, 
    {
      "execution_count": null, 
      "cell_type": "code", 
      "source": [
        "evoked.comment = 'All trials'\nevoked.plot_topo(title='Evoked data')\nevoked.plot_topo(noise_cov=noise_cov, title='Whitened evoked data')"
      ], 
      "outputs": [], 
      "metadata": {
        "collapsed": false
      }
    }
  ], 
  "metadata": {
    "kernelspec": {
      "display_name": "Python 2", 
      "name": "python2", 
      "language": "python"
    }, 
    "language_info": {
      "mimetype": "text/x-python", 
      "nbconvert_exporter": "python", 
      "name": "python", 
      "file_extension": ".py", 
      "version": "2.7.14", 
      "pygments_lexer": "ipython2", 
      "codemirror_mode": {
        "version": 2, 
        "name": "ipython"
      }
    }
  }
}