{
  "nbformat_minor": 0, 
  "nbformat": 4, 
  "cells": [
    {
      "execution_count": null, 
      "cell_type": "code", 
      "source": [
        "%matplotlib inline"
      ], 
      "outputs": [], 
      "metadata": {
        "collapsed": false
      }
    }, 
    {
      "source": [
        "\n# Compute MNE inverse solution on evoked data in a mixed source space\n\n\nCreate a mixed source space and compute MNE inverse solution on evoked dataset\n\n\n"
      ], 
      "cell_type": "markdown", 
      "metadata": {}
    }, 
    {
      "execution_count": null, 
      "cell_type": "code", 
      "source": [
        "# Author: Annalisa Pascarella <a.pascarella@iac.cnr.it>\n#\n# License: BSD (3-clause)\n\nimport os.path as op\nimport matplotlib.pyplot as plt\nimport mne\n\nfrom mne.datasets import sample\nfrom mne import write_source_spaces, setup_source_space\nfrom mne import setup_volume_source_space\nfrom mne import make_forward_solution\nfrom mne.minimum_norm import make_inverse_operator, apply_inverse\n\nfrom nilearn import plotting\n\n# Set dir\ndata_path = sample.data_path()\nsubject = 'sample'\ndata_dir = op.join(data_path, 'MEG', subject)\nsubjects_dir = op.join(data_path, 'subjects')\nbem_dir = op.join(subjects_dir, subject, 'bem')\n\n# Set file names\nfname_mixed_src = op.join(bem_dir, '%s-oct-6-mixed-src.fif' % subject)\nfname_aseg = op.join(subjects_dir, subject, 'mri', 'aseg.mgz')\n\nfname_model = op.join(bem_dir, '%s-5120-bem.fif' % subject)\nfname_bem = op.join(bem_dir, '%s-5120-bem-sol.fif' % subject)\n\nfname_evoked = data_dir + '/sample_audvis-ave.fif'\nfname_trans = data_dir + '/sample_audvis_raw-trans.fif'\nfname_fwd = data_dir + '/sample_audvis-meg-oct-6-mixed-fwd.fif'\nfname_cov = data_dir + '/sample_audvis-shrunk-cov.fif'\n\n# List of sub structures we are interested in. We select only the\n# sub structures we want to include in the source space\nlabels_vol = ['Left-Amygdala',\n              'Left-Thalamus-Proper',\n              'Left-Cerebellum-Cortex',\n              'Brain-Stem',\n              'Right-Amygdala',\n              'Right-Thalamus-Proper',\n              'Right-Cerebellum-Cortex']\n\n# Setup a surface-based source space\nsrc = setup_source_space(subject, fname=None, subjects_dir=subjects_dir,\n                         spacing='oct6', add_dist=False)\n\n# We create a mixed src space adding to the surface src space the volume\n# regions specified in the list labels_vol. First, read the aseg file and the\n# source space bounds using the inner skull surface\n\n# Setup a volume source space\n# set pos=7.0 for speed issue\nvol_src = setup_volume_source_space(subject, mri=fname_aseg,\n                                    pos=7.0,\n                                    bem=fname_model,\n                                    volume_label=labels_vol,\n                                    subjects_dir=subjects_dir)\n# Generate the mixed source space\nsrc += vol_src\n\nn = sum(src[i]['nuse'] for i in range(len(src)))\nprint('the src space contains %d spaces and %d points' % (len(src), n))\n\n# Write the mixed source space\nwrite_source_spaces(fname_mixed_src, src)\n\n# Export source positions to nift file\nnii_fname = op.join(bem_dir, '%s-mixed-src.nii' % subject)\nsrc.export_volume(nii_fname, mri_resolution=True)\n\nplotting.plot_img(nii_fname, cmap=plt.cm.spectral)\nplt.show()\n\n# Compute the fwd matrix\nfwd = make_forward_solution(fname_evoked, fname_trans, src, fname_bem,\n                            mindist=5.0,  # ignore sources<=5mm from innerskull\n                            meg=True, eeg=False,\n                            n_jobs=1,\n                            overwrite=True)\n\nleadfield = fwd['sol']['data']\nprint(\"Leadfield size : %d sensors x %d dipoles\" % leadfield.shape)\n\nsrc_fwd = fwd['src']\nn = sum(src_fwd[i]['nuse'] for i in range(len(src_fwd)))\nprint('the fwd src space contains %d spaces and %d points' % (len(src_fwd), n))\n\n# Load data\ncondition = 'Left Auditory'\nevoked = mne.read_evokeds(fname_evoked, condition=condition,\n                          baseline=(None, 0))\nnoise_cov = mne.read_cov(fname_cov)\n\n# Compute inverse solution and for each epoch\nsnr = 3.0           # use smaller SNR for raw data\ninv_method = 'MNE'  # sLORETA, MNE, dSPM\nparc = 'aparc'      # the parcellation to use, e.g., 'aparc' 'aparc.a2009s'\n\nlambda2 = 1.0 / snr ** 2\n\n# Compute inverse operator\ninverse_operator = make_inverse_operator(evoked.info, fwd, noise_cov,\n                                         loose=None, depth=None,\n                                         fixed=False)\n\nstcs = apply_inverse(evoked, inverse_operator, lambda2, inv_method,\n                     pick_ori=None)\n\n# Get labels for FreeSurfer 'aparc' cortical parcellation with 34 labels/hemi\nlabels_parc = mne.read_labels_from_annot(subject, parc=parc,\n                                         subjects_dir=subjects_dir)\n\n# Average the source estimates within each label of the cortical parcellation\n# and each sub structure contained in the src space\n# If mode = 'mean_flip' this option is used only for the surface cortical label\nsrc = inverse_operator['src']\n\nlabel_ts = mne.extract_label_time_course([stcs], labels_parc, src,\n                                         mode='mean',\n                                         allow_empty=True,\n                                         return_generator=False)\n\n# plot the times series of 2 labels\nfig, axes = plt.subplots(1)\naxes.plot(1e3 * stcs.times, label_ts[0][0, :], 'k', label='bankssts-lh')\naxes.plot(1e3 * stcs.times, label_ts[0][71, :].T, 'r',\n          label='Brain-stem')\naxes.set(xlabel='Time (ms)', ylabel='MNE current (nAm)')\naxes.legend()\nmne.viz.tight_layout()\nplt.show()"
      ], 
      "outputs": [], 
      "metadata": {
        "collapsed": false
      }
    }
  ], 
  "metadata": {
    "kernelspec": {
      "display_name": "Python 2", 
      "name": "python2", 
      "language": "python"
    }, 
    "language_info": {
      "mimetype": "text/x-python", 
      "nbconvert_exporter": "python", 
      "name": "python", 
      "file_extension": ".py", 
      "version": "2.7.13", 
      "pygments_lexer": "ipython2", 
      "codemirror_mode": {
        "version": 2, 
        "name": "ipython"
      }
    }
  }
}