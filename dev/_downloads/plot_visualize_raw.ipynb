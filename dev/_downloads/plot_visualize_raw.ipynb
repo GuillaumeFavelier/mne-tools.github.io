{
  "nbformat_minor": 0, 
  "nbformat": 4, 
  "cells": [
    {
      "execution_count": null, 
      "cell_type": "code", 
      "source": [
        "%matplotlib inline"
      ], 
      "outputs": [], 
      "metadata": {
        "collapsed": false
      }
    }, 
    {
      "source": [
        "\n.. _tut_viz_raw:\n\nVisualize Raw data\n==================\n\n"
      ], 
      "cell_type": "markdown", 
      "metadata": {}
    }, 
    {
      "execution_count": null, 
      "cell_type": "code", 
      "source": [
        "import os.path as op\n\nimport mne\n\ndata_path = op.join(mne.datasets.sample.data_path(), 'MEG', 'sample')\nraw = mne.io.read_raw_fif(op.join(data_path, 'sample_audvis_raw.fif'))\nevents = mne.read_events(op.join(data_path, 'sample_audvis_raw-eve.fif'))"
      ], 
      "outputs": [], 
      "metadata": {
        "collapsed": false
      }
    }, 
    {
      "source": [
        "The visualization module (:mod:`mne.viz`) contains all the plotting functions\nthat work in combination with MNE data structures. Usually the easiest way to\nuse them is to call a method of the data container. All of the plotting\nmethod names start with ``plot``. Let's try them out!\n\nTo visually inspect your raw data, you can use the python equivalent of\n``mne_browse_raw``.\n"
      ], 
      "cell_type": "markdown", 
      "metadata": {}
    }, 
    {
      "execution_count": null, 
      "cell_type": "code", 
      "source": [
        "raw.plot(block=True, events=events)"
      ], 
      "outputs": [], 
      "metadata": {
        "collapsed": false
      }
    }, 
    {
      "source": [
        "The channels are color coded by channel type. Generally MEG channels are\ncolored in different shades of blue, whereas EEG channels are black. The\nchannels are also sorted by channel type by default. If you want to use a\ncustom order for the channels, you can use ``order`` parameter of\n:func:`raw.plot`. The scrollbar on right side of the browser window also\ntells us that two of the channels are marked as ``bad``. Bad channels are\ncolor coded gray. By clicking the lines or channel names on the left, you can\nmark or unmark a bad channel interactively. You can use +/- keys to adjust\nthe scale (also = works for magnifying the data). Note that the initial\nscaling factors can be set with parameter ``scalings``. With\n``pageup/pagedown`` and ``home/end`` keys you can adjust the amount of data\nviewed at once. To see all the interactive features, hit ``?`` or click\n``help`` in the lower left corner of the browser window.\n\nWe read the events from a file and passed it as a parameter when calling the\nmethod. The events are plotted as vertical lines so you can see how they\nalign with the raw data.\n\nNow let's add some ssp projectors to the raw data. Here we read them from a\nfile and plot them.\n"
      ], 
      "cell_type": "markdown", 
      "metadata": {}
    }, 
    {
      "execution_count": null, 
      "cell_type": "code", 
      "source": [
        "projs = mne.read_proj(op.join(data_path, 'sample_audvis_eog-proj.fif'))\nraw.add_proj(projs)\nraw.plot_projs_topomap()"
      ], 
      "outputs": [], 
      "metadata": {
        "collapsed": false
      }
    }, 
    {
      "source": [
        "The first three projectors that we see are the SSP vectors from empty room\nmeasurements to compensate for the noise. The fourth one is the average EEG\nreference. These are already applied to the data and can no longer be\nremoved. The next six are the EOG projections that we added. Every data\nchannel type has two projection vectors each. Let's try the raw browser\nagain.\n"
      ], 
      "cell_type": "markdown", 
      "metadata": {}
    }, 
    {
      "execution_count": null, 
      "cell_type": "code", 
      "source": [
        "raw.plot()"
      ], 
      "outputs": [], 
      "metadata": {
        "collapsed": false
      }
    }, 
    {
      "source": [
        "Now click the `proj` button at the lower right corner of the browser\nwindow. A selection dialog should appear, where you can toggle the projectors\non and off. Notice that the first four are already applied to the data and\ntoggling them does not change the data. However the newly added projectors\nmodify the data to get rid of the EOG artifacts. Note that toggling the\nprojectors here doesn't actually modify the data. This is purely for visually\ninspecting the effect. See :func:`mne.io.Raw.del_proj` to actually remove the\nprojectors.\n\nRaw container also lets us easily plot the overall and channel wise power\nspectra over the raw data. See the API documentation for more info.\n"
      ], 
      "cell_type": "markdown", 
      "metadata": {}
    }, 
    {
      "execution_count": null, 
      "cell_type": "code", 
      "source": [
        "raw.plot_psd()\nraw.plot_psd_topo()"
      ], 
      "outputs": [], 
      "metadata": {
        "collapsed": false
      }
    }
  ], 
  "metadata": {
    "kernelspec": {
      "display_name": "Python 2", 
      "name": "python2", 
      "language": "python"
    }, 
    "language_info": {
      "mimetype": "text/x-python", 
      "nbconvert_exporter": "python", 
      "name": "python", 
      "file_extension": ".py", 
      "version": "2.7.11", 
      "pygments_lexer": "ipython2", 
      "codemirror_mode": {
        "version": 2, 
        "name": "ipython"
      }
    }
  }
}