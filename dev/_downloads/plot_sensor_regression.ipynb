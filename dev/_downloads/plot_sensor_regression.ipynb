{
  "nbformat_minor": 0, 
  "nbformat": 4, 
  "cells": [
    {
      "execution_count": null, 
      "cell_type": "code", 
      "source": [
        "%matplotlib inline"
      ], 
      "outputs": [], 
      "metadata": {
        "collapsed": false
      }
    }, 
    {
      "source": [
        "\n# Sensor space least squares regression\n\n\nPredict single trial activity from a continuous variable.\nA single-trial regression is performed in each sensor and timepoint\nindividually, resulting in an :class:`mne.Evoked` object which contains the\nregression coefficient (beta value) for each combination of sensor and\ntimepoint. Example shows the regression coefficient; the t and p values are\nalso calculated automatically.\n\nHere, we repeat a few of the analyses from [1]_ by accessing the metadata\nobject, which contains word-level information about various\npsycholinguistically relevant features of the words for which we have EEG\nactivity.\n\nFor the general methodology, see e.g. [2]_\n\n\nReferences\n----------\n.. [1]  Dufau, S., Grainger, J., Midgley, KJ., Holcomb, PJ. A thousand\n   words are worth a picture: Snapshots of printed-word processing in an\n   event-related potential megastudy. Psychological Science, 2015\n.. [2]  Hauk et al. The time course of visual word recognition as revealed by\n   linear regression analysis of ERP data. Neuroimage, 2006\n\n"
      ], 
      "cell_type": "markdown", 
      "metadata": {}
    }, 
    {
      "execution_count": null, 
      "cell_type": "code", 
      "source": [
        "# Authors: Tal Linzen <linzen@nyu.edu>\n#          Denis A. Engemann <denis.engemann@gmail.com>\n#          Jona Sassenhagen <jona.sassenhagen@gmail.com>\n#\n# License: BSD (3-clause)\n\nimport pandas as pd\nimport mne\nfrom mne.stats import linear_regression\nfrom mne.datasets import kiloword\n\n# Load the data\npath = kiloword.data_path() + '/kword_metadata-epo.fif'\nepochs = mne.read_epochs(path)\nprint(epochs.metadata.head())\n\n# Add intercept column\ndf = pd.DataFrame(epochs.metadata)\nepochs.metadata = df.assign(Intercept=[1 for _ in epochs.events])\n\n# Run and visualize the regression\nnames = [\"Intercept\", \"Concreteness\", \"BigramFrequency\"]\nres = linear_regression(epochs, epochs.metadata[names], names=names)\n\nfor cond in names:\n    res[cond].beta.plot_joint(title=cond)"
      ], 
      "outputs": [], 
      "metadata": {
        "collapsed": false
      }
    }
  ], 
  "metadata": {
    "kernelspec": {
      "display_name": "Python 2", 
      "name": "python2", 
      "language": "python"
    }, 
    "language_info": {
      "mimetype": "text/x-python", 
      "nbconvert_exporter": "python", 
      "name": "python", 
      "file_extension": ".py", 
      "version": "2.7.14", 
      "pygments_lexer": "ipython2", 
      "codemirror_mode": {
        "version": 2, 
        "name": "ipython"
      }
    }
  }
}