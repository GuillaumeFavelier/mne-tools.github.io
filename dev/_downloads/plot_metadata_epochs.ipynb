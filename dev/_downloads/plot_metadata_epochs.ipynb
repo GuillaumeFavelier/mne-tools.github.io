{
  "nbformat_minor": 0, 
  "nbformat": 4, 
  "cells": [
    {
      "execution_count": null, 
      "cell_type": "code", 
      "source": [
        "%matplotlib inline"
      ], 
      "outputs": [], 
      "metadata": {
        "collapsed": false
      }
    }, 
    {
      "source": [
        "\n# Pandas querying and metadata with Epochs objects\n\n\nDemonstrating pandas-style string querying with Epochs metadata.\nFor related uses of :class:`mne.Epochs`, see the starting tutorial\n`sphx_glr_auto_tutorials_plot_object_epochs.py`.\n\nSometimes you've got a more complex trials structure that cannot be easily\nsummarized as a set of unique integers. In this case, it may be useful to use\nthe ``metadata`` attribute of :class:`mne.Epochs` objects. This must be a\n:class:`pandas.DataFrame` where each row corresponds to an epoch, and each\ncolumn corresponds to a metadata attribute of each epoch. Columns must\ncontain either strings, ints, or floats.\n\nIn this dataset, subjects were presented with individual words\non a screen, and the EEG activity in response to each word was recorded.\nWe know which word was displayed in each epoch, as well as\nextra information about the word (e.g., word frequency).\n\nLoading the data\n----------------\nFirst we'll load the data. If metadata exists for an :class:`mne.Epochs`\nfif file, it will automatically be loaded in the ``metadata`` attribute.\n\n"
      ], 
      "cell_type": "markdown", 
      "metadata": {}
    }, 
    {
      "execution_count": null, 
      "cell_type": "code", 
      "source": [
        "# Authors: Chris Holdgraf <choldgraf@gmail.com>\n#          Jona Sassenhagen <jona.sassenhagen@gmail.com>\n#          Eric Larson <larson.eric.d@gmail.com>\n\n# License: BSD (3-clause)\n\nimport mne\nimport numpy as np\nimport matplotlib.pyplot as plt\n\n# Load the data from the internet\npath = mne.datasets.kiloword.data_path() + '/kword_metadata-epo.fif'\nepochs = mne.read_epochs(path)\n\n# The metadata exists as a Pandas DataFrame\nprint(epochs.metadata.head(10))"
      ], 
      "outputs": [], 
      "metadata": {
        "collapsed": false
      }
    }, 
    {
      "source": [
        "We can use this metadata attribute to select subsets of Epochs. This\nuses the Pandas :meth:`pandas.DataFrame.query` method under the hood.\nAny valid query string will work. Below we'll make two plots to compare\nbetween them:\n\n"
      ], 
      "cell_type": "markdown", 
      "metadata": {}
    }, 
    {
      "execution_count": null, 
      "cell_type": "code", 
      "source": [
        "av1 = epochs['Concreteness < 5 and WordFrequency < 2'].average()\nav2 = epochs['Concreteness > 5 and WordFrequency > 2'].average()\n\nav1.plot_joint(show=False)\nav2.plot_joint(show=False)"
      ], 
      "outputs": [], 
      "metadata": {
        "collapsed": false
      }
    }, 
    {
      "source": [
        "Next we'll choose a subset of words to keep.\n\n"
      ], 
      "cell_type": "markdown", 
      "metadata": {}
    }, 
    {
      "execution_count": null, 
      "cell_type": "code", 
      "source": [
        "words = ['film', 'cent', 'shot', 'cold', 'main']\nepochs['WORD in {}'.format(words)].plot_image(show=False)"
      ], 
      "outputs": [], 
      "metadata": {
        "collapsed": false
      }
    }, 
    {
      "source": [
        "Note that traditional epochs sub-selection still works. The traditional\nMNE methods for selecting epochs will supersede the rich metadata querying.\n\n"
      ], 
      "cell_type": "markdown", 
      "metadata": {}
    }, 
    {
      "execution_count": null, 
      "cell_type": "code", 
      "source": [
        "epochs['cent'].average().plot(show=False)"
      ], 
      "outputs": [], 
      "metadata": {
        "collapsed": false
      }
    }, 
    {
      "source": [
        "Below we'll show a more involved example that leverages the metadata\nof each epoch. We'll create a new column in our metadata object and use\nit to generate averages for many subsets of trials.\n\n"
      ], 
      "cell_type": "markdown", 
      "metadata": {}
    }, 
    {
      "execution_count": null, 
      "cell_type": "code", 
      "source": [
        "# Create a new metadata column\nmeta = epochs.metadata\nis_concrete = meta[\"WordFrequency\"] > meta[\"WordFrequency\"].median()\nmeta[\"is_concrete\"] = np.where(is_concrete, 'Concrete', 'Abstract')\nepochs.metadata = meta\n\n# We'll create a dictionary so that we can plot with ``plot_compare_evokeds``\ncategories = [\"NumberOfLetters\", \"is_concrete\"]\navs = {}\nfor (cat1, cat2), _ in epochs.metadata.groupby(categories):\n    query = 'NumberOfLetters == {} and is_concrete == \"{}\"'.format(cat1, cat2)\n    this_epochs = epochs[query]\n    avs[\"{}/{}\".format(cat1, cat2)] = this_epochs.average()\n\n# Style the plot\ncolors = np.linspace(0, 1, num=len(avs))\nstyle_plot = dict(\n    colors=plt.get_cmap('YlGnBu_r')(colors),\n    linestyles={'Concrete': '-', 'Abstract': '--'}\n)\n\n# Make the plot\nix_plot = mne.pick_channels(epochs.ch_names, ['Pz'])\nfig, ax = plt.subplots(figsize=(6, 3))\nfig = mne.viz.evoked.plot_compare_evokeds(\n    avs, picks=ix_plot, show=False, axes=ax, **style_plot)\nax.legend(loc=[1.05, .1])\nplt.show()"
      ], 
      "outputs": [], 
      "metadata": {
        "collapsed": false
      }
    }, 
    {
      "source": [
        "<div class=\"alert alert-info\"><h4>Note</h4><p>Creating an :class:`mne.Epochs` object with metadata is done by passing\n   a :class:`pandas.DataFrame` to the ``metadata`` kwarg as follows:</p></div>\n\n"
      ], 
      "cell_type": "markdown", 
      "metadata": {}
    }, 
    {
      "execution_count": null, 
      "cell_type": "code", 
      "source": [
        "data = epochs.get_data()\nmetadata = epochs.metadata.copy()\nepochs_new = mne.EpochsArray(data, epochs.info, metadata=metadata)"
      ], 
      "outputs": [], 
      "metadata": {
        "collapsed": false
      }
    }
  ], 
  "metadata": {
    "kernelspec": {
      "display_name": "Python 2", 
      "name": "python2", 
      "language": "python"
    }, 
    "language_info": {
      "mimetype": "text/x-python", 
      "nbconvert_exporter": "python", 
      "name": "python", 
      "file_extension": ".py", 
      "version": "2.7.14", 
      "pygments_lexer": "ipython2", 
      "codemirror_mode": {
        "version": 2, 
        "name": "ipython"
      }
    }
  }
}