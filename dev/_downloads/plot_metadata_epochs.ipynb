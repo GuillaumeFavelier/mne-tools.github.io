{
  "nbformat_minor": 0, 
  "nbformat": 4, 
  "cells": [
    {
      "execution_count": null, 
      "cell_type": "code", 
      "source": [
        "%matplotlib inline"
      ], 
      "outputs": [], 
      "metadata": {
        "collapsed": false
      }
    }, 
    {
      "source": [
        "\n\n# Pandas querying and metadata with Epochs objects\n\n\nDemonstrating pandas-style string querying with Epochs metadata.\nFor related uses of :class:`mne.Epochs`, see the starting tutorial\n`sphx_glr_auto_tutorials_plot_object_epochs.py`.\n\nSometimes you've got a more complex trials structure that cannot be easily\nsummarized as a set of unique integers. In this case, it may be useful to use\nthe ``metadata`` attribute of :class:`mne.Epochs` objects. This must be a\n:class:`pandas.DataFrame` where each row corresponds to an epoch, and each\ncolumn corresponds to a metadata attribute of each epoch. Columns must\ncontain either strings, ints, or floats.\n\nIn this dataset, subjects were presented with individual words\non a screen, and the EEG activity in response to each word was recorded.\nWe know which word was displayed in each epoch, as well as\nextra information about the word (e.g., word frequency).\n\nLoading the data\n----------------\nFirst we'll load the data. If metadata exists for an :class:`mne.Epochs`\nfif file, it will automatically be loaded in the ``metadata`` attribute.\n\n"
      ], 
      "cell_type": "markdown", 
      "metadata": {}
    }, 
    {
      "execution_count": null, 
      "cell_type": "code", 
      "source": [
        "# Authors: Chris Holdgraf <choldgraf@gmail.com>\n#          Jona Sassenhagen <jona.sassenhagen@gmail.com>\n#          Eric Larson <larson.eric.d@gmail.com>\n\n# License: BSD (3-clause)\n\nimport mne\nimport numpy as np\nimport matplotlib.pyplot as plt\n\n# Load the data from the internet\npath = mne.datasets.kiloword.data_path() + '/kword_metadata-epo.fif'\nepochs = mne.read_epochs(path)\n\n# The metadata exists as a Pandas DataFrame\nprint(epochs.metadata.head(10))"
      ], 
      "outputs": [], 
      "metadata": {
        "collapsed": false
      }
    }, 
    {
      "source": [
        "We can use this metadata attribute to select subsets of Epochs. This\nuses the Pandas :meth:`pandas.DataFrame.query` method under the hood.\nAny valid query string will work. Below we'll make two plots to compare\nbetween them:\n\n"
      ], 
      "cell_type": "markdown", 
      "metadata": {}
    }, 
    {
      "execution_count": null, 
      "cell_type": "code", 
      "source": [
        "av1 = epochs['Concreteness < 5 and WordFrequency < 2'].average()\nav2 = epochs['Concreteness > 5 and WordFrequency > 2'].average()\n\nav1.plot_joint(show=False)\nav2.plot_joint(show=False)"
      ], 
      "outputs": [], 
      "metadata": {
        "collapsed": false
      }
    }, 
    {
      "source": [
        "Next we'll choose a subset of words to keep.\n\n"
      ], 
      "cell_type": "markdown", 
      "metadata": {}
    }, 
    {
      "execution_count": null, 
      "cell_type": "code", 
      "source": [
        "words = ['film', 'cent', 'shot', 'cold', 'main']\nepochs['WORD in {}'.format(words)].plot_image(show=False)"
      ], 
      "outputs": [], 
      "metadata": {
        "collapsed": false
      }
    }, 
    {
      "source": [
        "Note that traditional epochs sub-selection still works. The traditional\nMNE methods for selecting epochs will supersede the rich metadata querying.\n\n"
      ], 
      "cell_type": "markdown", 
      "metadata": {}
    }, 
    {
      "execution_count": null, 
      "cell_type": "code", 
      "source": [
        "epochs['cent'].average().plot(show=False)"
      ], 
      "outputs": [], 
      "metadata": {
        "collapsed": false
      }
    }, 
    {
      "source": [
        "Below we'll show a more involved example that leverages the metadata\nof each epoch. We'll create a new column in our metadata object and use\nit to generate averages for many subsets of trials.\n\n"
      ], 
      "cell_type": "markdown", 
      "metadata": {}
    }, 
    {
      "execution_count": null, 
      "cell_type": "code", 
      "source": [
        "# Create two new metadata columns\nmetadata = epochs.metadata\nis_concrete = metadata[\"Concreteness\"] > metadata[\"Concreteness\"].median()\nmetadata[\"is_concrete\"] = np.where(is_concrete, 'Concrete', 'Abstract')\nis_long = metadata[\"NumberOfLetters\"] > 5\nmetadata[\"is_long\"] = np.where(is_long, 'Long', 'Short')\nepochs.metadata = metadata"
      ], 
      "outputs": [], 
      "metadata": {
        "collapsed": false
      }
    }, 
    {
      "source": [
        "Now we can quickly extract (and plot) subsets of the data. For example, to\nlook at words split by word length and concreteness:\n\n"
      ], 
      "cell_type": "markdown", 
      "metadata": {}
    }, 
    {
      "execution_count": null, 
      "cell_type": "code", 
      "source": [
        "query = \"is_long == '{0}' & is_concrete == '{1}'\"\nevokeds = dict()\nfor concreteness in (\"Concrete\", \"Abstract\"):\n    for length in (\"Long\", \"Short\"):\n        subset = epochs[query.format(length, concreteness)]\n        evokeds[\"/\".join((concreteness, length))] = list(subset.iter_evoked())\n\n# For the actual visualisation, we store a number of shared parameters.\nstyle_plot = dict(\n    colors={\"Long\": \"Crimson\", \"Short\": \"Cornflowerblue\"},\n    linestyles={\"Concrete\": \"-\", \"Abstract\": \":\"},\n    split_legend=True,\n    ci=.68,\n    show_sensors='lower right',\n    show_legend='lower left',\n    truncate_yaxis=\"max_ticks\",\n    picks=epochs.ch_names.index(\"Pz\"),\n)\n\nfig, ax = plt.subplots(figsize=(6, 4))\nmne.viz.plot_compare_evokeds(evokeds, axes=ax, **style_plot)\nplt.show()"
      ], 
      "outputs": [], 
      "metadata": {
        "collapsed": false
      }
    }, 
    {
      "source": [
        "To compare words which are 4, 5, 6, 7 or 8 letters long:\n\n"
      ], 
      "cell_type": "markdown", 
      "metadata": {}
    }, 
    {
      "execution_count": null, 
      "cell_type": "code", 
      "source": [
        "letters = epochs.metadata[\"NumberOfLetters\"].unique().astype(int).astype(str)\n\nevokeds = dict()\nfor n_letters in letters:\n    evokeds[n_letters] = epochs[\"NumberOfLetters == \" + n_letters].average()\n\nstyle_plot[\"colors\"] = {n_letters: int(n_letters)\n                        for n_letters in letters}\nstyle_plot[\"cmap\"] = (\"# of Letters\", \"viridis_r\")\ndel style_plot['linestyles']\n\nfig, ax = plt.subplots(figsize=(6, 4))\nmne.viz.plot_compare_evokeds(evokeds, axes=ax, **style_plot)\nplt.show()"
      ], 
      "outputs": [], 
      "metadata": {
        "collapsed": false
      }
    }, 
    {
      "source": [
        "And finally, for the interaction between concreteness and continuous length\nin letters:\n\n"
      ], 
      "cell_type": "markdown", 
      "metadata": {}
    }, 
    {
      "execution_count": null, 
      "cell_type": "code", 
      "source": [
        "evokeds = dict()\nquery = \"is_concrete == '{0}' & NumberOfLetters == {1}\"\nfor concreteness in (\"Concrete\", \"Abstract\"):\n    for n_letters in letters:\n        subset = epochs[query.format(concreteness, n_letters)]\n        evokeds[\"/\".join((concreteness, n_letters))] = subset.average()\n\nstyle_plot[\"linestyles\"] = {\"Concrete\": \"-\", \"Abstract\": \":\"}\n\nfig, ax = plt.subplots(figsize=(6, 4))\nmne.viz.plot_compare_evokeds(evokeds, axes=ax, **style_plot)\nplt.show()"
      ], 
      "outputs": [], 
      "metadata": {
        "collapsed": false
      }
    }, 
    {
      "source": [
        "<div class=\"alert alert-info\"><h4>Note</h4><p>Creating an :class:`mne.Epochs` object with metadata is done by passing\n   a :class:`pandas.DataFrame` to the ``metadata`` kwarg as follows:</p></div>\n\n"
      ], 
      "cell_type": "markdown", 
      "metadata": {}
    }, 
    {
      "execution_count": null, 
      "cell_type": "code", 
      "source": [
        "data = epochs.get_data()\nmetadata = epochs.metadata.copy()\nepochs_new = mne.EpochsArray(data, epochs.info, metadata=metadata)"
      ], 
      "outputs": [], 
      "metadata": {
        "collapsed": false
      }
    }
  ], 
  "metadata": {
    "kernelspec": {
      "display_name": "Python 2", 
      "name": "python2", 
      "language": "python"
    }, 
    "language_info": {
      "mimetype": "text/x-python", 
      "nbconvert_exporter": "python", 
      "name": "python", 
      "file_extension": ".py", 
      "version": "2.7.14", 
      "pygments_lexer": "ipython2", 
      "codemirror_mode": {
        "version": 2, 
        "name": "ipython"
      }
    }
  }
}