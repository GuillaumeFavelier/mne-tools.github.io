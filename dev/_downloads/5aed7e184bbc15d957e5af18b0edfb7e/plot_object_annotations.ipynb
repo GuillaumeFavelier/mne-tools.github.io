{
  "cells": [
    {
      "cell_type": "code",
      "execution_count": null,
      "metadata": {
        "collapsed": false
      },
      "outputs": [],
      "source": [
        "%matplotlib inline"
      ]
    },
    {
      "cell_type": "markdown",
      "metadata": {},
      "source": [
        "\nThe **events** and :class:`Annotations <mne.Annotations>` data structures\n=========================================================================\n\nEvents and :class:`Annotations <mne.Annotations>` are quite similar.\nThis tutorial highlights their differences and similarities, and tries to shed\nsome light on which one is preferred to use in different situations when using\nMNE.\n\nHere are the definitions from the `glossary`.\n\n    events\n        Events correspond to specific time points in raw data; e.g., triggers,\n        experimental condition events, etc. MNE represents events with integers\n        that are stored in numpy arrays of shape (n_events, 3). Such arrays are\n        classically obtained from a trigger channel, also referred to as stim\n        channel.\n\n    annotations\n        An annotation is defined by an onset, a duration, and a string\n        description. It can contain information about the experiments, but\n        also details on signals marked by a human: bad data segments,\n        sleep scores, sleep events (spindles, K-complex) etc.\n\nBoth events and :class:`Annotations <mne.Annotations>` can be seen as triplets\nwhere the first element answers to **when** something happens and the last\nelement refers to **what** it is.\nThe main difference is that events represent the onset in samples taking into\naccount the first sample value\n(:attr:`raw.first_samp <mne.io.Raw.first_samp>`), and the description is\nan integer value.\nIn contrast, :class:`Annotations <mne.Annotations>` represents the\n``onset`` in seconds (relative to the reference ``orig_time``),\nand the ``description`` is an arbitrary string.\nThere is no correspondence between the second element of events and\n:class:`Annotations <mne.Annotations>`.\nFor events, the second element corresponds to the previous value on the\nstimulus channel from which events are extracted. In practice, the second\nelement is therefore in most cases zero.\nThe second element of :class:`Annotations <mne.Annotations>` is a float\nindicating its duration in seconds.\n\nSee `sphx_glr_auto_examples_io_plot_read_events.py`\nfor a complete example of how to read, select, and visualize **events**;\nand `sphx_glr_auto_tutorials_plot_artifacts_correction_rejection.py` to\nlearn how :class:`Annotations <mne.Annotations>` are used to mark bad segments\nof data.\n\nAn example of events and annotations\n------------------------------------\n\nThe following example shows the recorded events in `sample_audvis_raw.fif` and\nmarks bad segments due to eye blinks.\n\n"
      ]
    },
    {
      "cell_type": "code",
      "execution_count": null,
      "metadata": {
        "collapsed": false
      },
      "outputs": [],
      "source": [
        "import os.path as op\nimport numpy as np\n\nimport mne\n\n# Load the data\ndata_path = mne.datasets.sample.data_path()\nfname = op.join(data_path, 'MEG', 'sample', 'sample_audvis_raw.fif')\nraw = mne.io.read_raw_fif(fname)\n\n# Plot the events\nevents = mne.find_events(raw)\n\n# Specify event_id dictionary based on the experiment\nevent_id = {'Auditory/Left': 1, 'Auditory/Right': 2,\n            'Visual/Left': 3, 'Visual/Right': 4,\n            'smiley': 5, 'button': 32}\ncolor = {1: 'green', 2: 'yellow', 3: 'red', 4: 'c', 5: 'black', 32: 'blue'}\n\nmne.viz.plot_events(events, raw.info['sfreq'], raw.first_samp, color=color,\n                    event_id=event_id)\n\n# Create some annotations specifying onset, duration and description\nannotated_blink_raw = raw.copy()\neog_events = mne.preprocessing.find_eog_events(raw)\nn_blinks = len(eog_events)\n# Center to cover the whole blink with full duration of 0.5s:\nonset = eog_events[:, 0] / raw.info['sfreq'] - 0.25\nduration = np.repeat(0.5, n_blinks)\ndescription = ['bad blink'] * n_blinks\nannot = mne.Annotations(onset, duration, description,\n                        orig_time=raw.info['meas_date'])\nannotated_blink_raw.set_annotations(annot)\n\nannotated_blink_raw.plot()  # plot the annotated raw"
      ]
    },
    {
      "cell_type": "markdown",
      "metadata": {},
      "source": [
        "Working with Annotations\n------------------------\n\nAn important element of :class:`Annotations <mne.Annotations>` is\n``orig_time`` which is the time reference for the ``onset``.\nIt is key to understand that when calling\n:func:`raw.set_annotations <mne.io.Raw.set_annotations>`, the given\nannotations are copied and transformed so that\n:class:`raw.annotations.orig_time <mne.Annotations>`\nmatches the recording time of the raw object.\nRefer to the documentation of :class:`Annotations <mne.Annotations>` to see\nthe expected behavior depending on ``meas_date`` and ``orig_time``.\nWhere ``meas_date`` is the recording time stored in\n:class:`Info <mne.Info>`.\nYou can find more information about :class:`Info <mne.Info>` in\n`sphx_glr_auto_tutorials_plot_info.py`.\n\nWe'll now manipulate some simulated annotations.\nThe first annotations has ``orig_time`` set to ``None`` while the\nsecond is set to a chosen POSIX timestamp for illustration purposes.\n\n"
      ]
    },
    {
      "cell_type": "code",
      "execution_count": null,
      "metadata": {
        "collapsed": false
      },
      "outputs": [],
      "source": [
        "# Create an annotation object without orig_time\nannot_none = mne.Annotations(onset=[0, 2, 9], duration=[0.5, 4, 0],\n                             description=['foo', 'bar', 'foo'],\n                             orig_time=None)\nprint(annot_none)\n\n# Create an annotation object with orig_time\norig_time = '2002-12-03 19:01:31.676071'\nannot_orig = mne.Annotations(onset=[22, 24, 31], duration=[0.5, 4, 0],\n                             description=['foo', 'bar', 'foo'],\n                             orig_time=orig_time)\nprint(annot_orig)"
      ]
    },
    {
      "cell_type": "markdown",
      "metadata": {},
      "source": [
        "Now we create two raw objects, set the annotations and plot them to compare\nthem.\n\n"
      ]
    },
    {
      "cell_type": "code",
      "execution_count": null,
      "metadata": {
        "collapsed": false
      },
      "outputs": [],
      "source": [
        "# Create two cropped copies of raw with the two previous annotations\nraw_a = raw.copy().crop(tmax=12).set_annotations(annot_none)\nraw_b = raw.copy().crop(tmax=12).set_annotations(annot_orig)\n\n# Plot the raw objects\nraw_a.plot()\nraw_b.plot()\n\n# Show the annotations in the raw objects\nprint(raw_a.annotations)\nprint(raw_b.annotations)\n\n# Show that the onsets are the same\nnp.set_printoptions(precision=6)\nprint(raw_a.annotations.onset)\nprint(raw_b.annotations.onset)"
      ]
    },
    {
      "cell_type": "markdown",
      "metadata": {},
      "source": [
        "Notice that for the case where ``orig_time`` is ``None``,\none assumes that the orig_time is the time of the first sample of data.\n\n"
      ]
    },
    {
      "cell_type": "code",
      "execution_count": null,
      "metadata": {
        "collapsed": false
      },
      "outputs": [],
      "source": [
        "raw_delta = (1 / raw.info['sfreq'])\nprint('raw.first_sample is {}'.format(raw.first_samp * raw_delta))\nprint('annot_none.onset[0] is {}'.format(annot_none.onset[0]))\nprint('raw_a.annotations.onset[0] is {}'.format(raw_a.annotations.onset[0]))"
      ]
    },
    {
      "cell_type": "markdown",
      "metadata": {},
      "source": [
        "It is possible to concatenate two annotations with the + operator like for\nlists if both share the same ``orig_time``\n\n"
      ]
    },
    {
      "cell_type": "code",
      "execution_count": null,
      "metadata": {
        "collapsed": false
      },
      "outputs": [],
      "source": [
        "annot = mne.Annotations(onset=[10], duration=[0.5],\n                        description=['foobar'],\n                        orig_time=orig_time)\nannot = annot_orig + annot  # concatenation\nprint(annot)"
      ]
    }
  ],
  "metadata": {
    "kernelspec": {
      "display_name": "Python 3",
      "language": "python",
      "name": "python3"
    },
    "language_info": {
      "codemirror_mode": {
        "name": "ipython",
        "version": 3
      },
      "file_extension": ".py",
      "mimetype": "text/x-python",
      "name": "python",
      "nbconvert_exporter": "python",
      "pygments_lexer": "ipython3",
      "version": "3.6.6"
    }
  },
  "nbformat": 4,
  "nbformat_minor": 0
}