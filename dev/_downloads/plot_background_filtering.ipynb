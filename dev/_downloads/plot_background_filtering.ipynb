{
  "nbformat_minor": 0, 
  "nbformat": 4, 
  "cells": [
    {
      "execution_count": null, 
      "cell_type": "code", 
      "source": [
        "%matplotlib inline"
      ], 
      "outputs": [], 
      "metadata": {
        "collapsed": false
      }
    }, 
    {
      "source": [
        "\n.. _tut_background_filtering:\n\n# Background information on filtering\n\n\nHere we give some background information on filtering in general,\nand how it is done in MNE-Python in particular.\nRecommended reading for practical applications of digital\nfilter design can be found in [1]_. To see how to use the default filters\nin MNE-Python on actual data, see the :ref:`tut_artifacts_filter` tutorial.\n\n.. contents::\n\n.. _filtering-basics:\n\nFiltering basics\n================\nLet's get some of the basic math down. In the frequency domain, digital\nfilters have a transfer function that is given by:\n\n$$H(z) &= \\frac{b_0 + b_1 z^{-1} + b_2 z^{-2} + ... + b_M z^{-M}}\n                 {1 + a_1 z^{-1} + a_2 z^{-2} + ... + a_N z^{-M}} \\\\\n         &= \\frac{\\sum_0^Mb_kz^{-k}}{\\sum_1^Na_kz^{-k}}$$\n\nIn the time domain, the numerator coefficients $b_k$ and denominator\ncoefficients $a_k$ can be used to obtain our output data\n$y(n)` in terms of our input data :math:`x(n)$ as:\n\n$$:label: summations\n\n    y(n) &= b_0 x(n) + b_1 x(n-1) + ... + b_M x(n-M)\n            - a_1 y(n-1) - a_2 y(n - 2) - ... - a_N y(n - N)\\\\\n         &= \\sum_0^M b_k x(n-k) - \\sum_1^N a_k y(n-k)$$\n\nIn other words, the output at time $n$ is determined by a sum over:\n\n    1. The numerator coefficients $b_k$, which get multiplied by\n       the previous input $x(n-k)$ values, and\n    2. The denominator coefficients $a_k$, which get multiplied by\n       the previous output $y(n-k)$ values.\n\nNote that these summations in :eq:`summations` correspond nicely to\n(1) a weighted `moving average`_ and (2) an autoregression_.\n\nFilters are broken into two classes: FIR_ (finite impulse response) and\nIIR_ (infinite impulse response) based on these coefficients.\nFIR filters use a finite number of numerator\ncoefficients $b_k` (:math:`\\forall k, a_k=0$), and thus each output\nvalue of $y(n)` depends only on the :math:`M$ previous input values.\nIIR filters depend on the previous input and output values, and thus can have\neffectively infinite impulse responses.\n\nAs outlined in [1]_, FIR and IIR have different tradeoffs:\n\n    * A causal FIR filter can be linear-phase -- i.e., the same time delay\n      across all frequencies -- whereas a causal IIR filter cannot. The phase\n      and group delay characteristics are also usually better for FIR filters.\n    * IIR filters can generally have a steeper cutoff than an FIR filter of\n      equivalent order.\n    * IIR filters are generally less numerically stable, in part due to\n      accumulating error (due to its recursive calculations).\n\nWhen designing a filter (FIR or IIR), there are always tradeoffs that\nneed to be considered, including but not limited to:\n\n    1. Ripple in the pass-band\n    2. Attenuation of the stop-band\n    3. Steepness of roll-off\n    4. Filter order (i.e., length for FIR filters)\n    5. Time-domain ringing\n\nIn general, the sharper something is in frequency, the broader it is in time,\nand vice-versa. This is a fundamental time-frequency tradeoff, and it will\nshow up below.\n\n===========\n\nFirst we will focus first on FIR filters, which are the default filters used by\nMNE-Python.\n\n"
      ], 
      "cell_type": "markdown", 
      "metadata": {}
    }, 
    {
      "source": [
        "Designing FIR filters\n---------------------\nHere we'll try designing a low-pass filter, and look at trade-offs in terms\nof time- and frequency-domain filter characteristics. Later, in\n:ref:`effect_on_signals`, we'll look at how such filters can affect\nsignals when they are used.\n\nFirst let's import some useful tools for filtering, and set some default\nvalues for our data that are reasonable for M/EEG data.\n\n"
      ], 
      "cell_type": "markdown", 
      "metadata": {}
    }, 
    {
      "execution_count": null, 
      "cell_type": "code", 
      "source": [
        "import numpy as np\nfrom scipy import signal, fftpack\nimport matplotlib.pyplot as plt\n\nfrom mne.time_frequency.tfr import morlet\n\nimport mne\n\nsfreq = 1000.\nf_p = 40.\nylim = [-60, 10]  # for dB plots\nxlim = [2, sfreq / 2.]\nblue = '#1f77b4'"
      ], 
      "outputs": [], 
      "metadata": {
        "collapsed": false
      }
    }, 
    {
      "source": [
        "Take for example an ideal low-pass filter, which would give a value of 1 in\nthe pass-band (up to frequency $f_p$) and a value of 0 in the stop-band\n(down to frequency $f_s`) such that :math:`f_p=f_s=40$ Hz here\n(shown to a lower limit of -60 dB for simplicity):\n\n"
      ], 
      "cell_type": "markdown", 
      "metadata": {}
    }, 
    {
      "execution_count": null, 
      "cell_type": "code", 
      "source": [
        "nyq = sfreq / 2.  # the Nyquist frequency is half our sample rate\nfreq = [0, f_p, f_p, nyq]\ngain = [1, 1, 0, 0]\n\n\ndef box_off(ax):\n    ax.grid(zorder=0)\n    for key in ('top', 'right'):\n        ax.spines[key].set_visible(False)\n\n\ndef plot_ideal(freq, gain, ax):\n    freq = np.maximum(freq, xlim[0])\n    xs, ys = list(), list()\n    for ii in range(len(freq)):\n        xs.append(freq[ii])\n        ys.append(ylim[0])\n        if ii < len(freq) - 1 and gain[ii] != gain[ii + 1]:\n            xs += [freq[ii], freq[ii + 1]]\n            ys += [ylim[1]] * 2\n    gain = 10 * np.log10(np.maximum(gain, 10 ** (ylim[0] / 10.)))\n    ax.fill_between(xs, ylim[0], ys, color='r', alpha=0.1)\n    ax.semilogx(freq, gain, 'r--', alpha=0.5, linewidth=4, zorder=3)\n    xticks = [1, 2, 4, 10, 20, 40, 100, 200, 400]\n    ax.set(xlim=xlim, ylim=ylim, xticks=xticks, xlabel='Frequency (Hz)',\n           ylabel='Amplitude (dB)')\n    ax.set(xticklabels=xticks)\n    box_off(ax)\n\nhalf_height = np.array(plt.rcParams['figure.figsize']) * [1, 0.5]\nax = plt.subplots(1, figsize=half_height)[1]\nplot_ideal(freq, gain, ax)\nax.set(title='Ideal %s Hz lowpass' % f_p)\nmne.viz.tight_layout()\nplt.show()"
      ], 
      "outputs": [], 
      "metadata": {
        "collapsed": false
      }
    }, 
    {
      "source": [
        "This filter hypothetically achieves zero ripple in the frequency domain,\nperfect attenuation, and perfect steepness. However, due to the discontunity\nin the frequency response, the filter would require infinite ringing in the\ntime domain (i.e., infinite order) to be realized. Another way to think of\nthis is that a rectangular window in frequency is actually sinc_ function\nin time, which requires an infinite number of samples, and thus infinite\ntime, to represent. So although this filter has ideal frequency suppression,\nit has poor time-domain characteristics.\n\nLet's try to na\u00efvely make a brick-wall filter of length 0.1 sec, and look\nat the filter itself in the time domain and the frequency domain:\n\n"
      ], 
      "cell_type": "markdown", 
      "metadata": {}
    }, 
    {
      "execution_count": null, 
      "cell_type": "code", 
      "source": [
        "n = int(round(0.1 * sfreq)) + 1\nt = np.arange(-n // 2, n // 2) / sfreq  # center our sinc\nh = np.sinc(2 * f_p * t) / (4 * np.pi)\n\n\ndef plot_filter(h, title, freq, gain, show=True):\n    if h.ndim == 2:  # second-order sections\n        sos = h\n        n = mne.filter.estimate_ringing_samples(sos)\n        h = np.zeros(n)\n        h[0] = 1\n        h = signal.sosfilt(sos, h)\n        H = np.ones(512, np.complex128)\n        for section in sos:\n            f, this_H = signal.freqz(section[:3], section[3:])\n            H *= this_H\n    else:\n        f, H = signal.freqz(h)\n    fig, axs = plt.subplots(2)\n    t = np.arange(len(h)) / sfreq\n    axs[0].plot(t, h, color=blue)\n    axs[0].set(xlim=t[[0, -1]], xlabel='Time (sec)',\n               ylabel='Amplitude h(n)', title=title)\n    box_off(axs[0])\n    f *= sfreq / (2 * np.pi)\n    axs[1].semilogx(f, 10 * np.log10((H * H.conj()).real), color=blue,\n                    linewidth=2, zorder=4)\n    plot_ideal(freq, gain, axs[1])\n    mne.viz.tight_layout()\n    if show:\n        plt.show()\n\nplot_filter(h, 'Sinc (0.1 sec)', freq, gain)"
      ], 
      "outputs": [], 
      "metadata": {
        "collapsed": false
      }
    }, 
    {
      "source": [
        "This is not so good! Making the filter 10 times longer (1 sec) gets us a\nbit better stop-band suppression, but still has a lot of ringing in\nthe time domain. Note the x-axis is an order of magnitude longer here:\n\n"
      ], 
      "cell_type": "markdown", 
      "metadata": {}
    }, 
    {
      "execution_count": null, 
      "cell_type": "code", 
      "source": [
        "n = int(round(1. * sfreq)) + 1\nt = np.arange(-n // 2, n // 2) / sfreq\nh = np.sinc(2 * f_p * t) / (4 * np.pi)\nplot_filter(h, 'Sinc (1.0 sec)', freq, gain)"
      ], 
      "outputs": [], 
      "metadata": {
        "collapsed": false
      }
    }, 
    {
      "source": [
        "Let's make the stop-band tighter still with a longer filter (10 sec),\nwith a resulting larger x-axis:\n\n"
      ], 
      "cell_type": "markdown", 
      "metadata": {}
    }, 
    {
      "execution_count": null, 
      "cell_type": "code", 
      "source": [
        "n = int(round(10. * sfreq)) + 1\nt = np.arange(-n // 2, n // 2) / sfreq\nh = np.sinc(2 * f_p * t) / (4 * np.pi)\nplot_filter(h, 'Sinc (10.0 sec)', freq, gain)"
      ], 
      "outputs": [], 
      "metadata": {
        "collapsed": false
      }
    }, 
    {
      "source": [
        "Now we have very sharp frequency suppression, but our filter rings for the\nentire second. So this na\u00efve method is probably not a good way to build\nour low-pass filter.\n\nFortunately, there are multiple established methods to design FIR filters\nbased on desired response characteristics. These include:\n\n    1. The Remez_ algorithm (`scipy remez`_, `MATLAB firpm`_)\n    2. Windowed FIR design (`scipy firwin2`_, `MATLAB fir2`_)\n    3. Least squares designs (`MATLAB firls`_; coming to scipy 0.18)\n\nIf we relax our frequency-domain filter requirements a little bit, we can\nuse these functions to construct a lowpass filter that instead has a\n*transition band*, or a region between the pass frequency $f_p$\nand stop frequency $f_s$, e.g.:\n\n"
      ], 
      "cell_type": "markdown", 
      "metadata": {}
    }, 
    {
      "execution_count": null, 
      "cell_type": "code", 
      "source": [
        "trans_bandwidth = 10  # 10 Hz transition band\nf_s = f_p + trans_bandwidth  # = 50 Hz\n\nfreq = [0., f_p, f_s, nyq]\ngain = [1., 1., 0., 0.]\nax = plt.subplots(1, figsize=half_height)[1]\nplot_ideal(freq, gain, ax)\nax.set(title='%s Hz lowpass with a %s Hz transition' % (f_p, trans_bandwidth))\nmne.viz.tight_layout()\nplt.show()"
      ], 
      "outputs": [], 
      "metadata": {
        "collapsed": false
      }
    }, 
    {
      "source": [
        "Accepting a shallower roll-off of the filter in the frequency domain makes\nour time-domain response potentially much better. We end up with a\nsmoother slope through the transition region, but a *much* cleaner time\ndomain signal. Here again for the 1 sec filter:\n\n"
      ], 
      "cell_type": "markdown", 
      "metadata": {}
    }, 
    {
      "execution_count": null, 
      "cell_type": "code", 
      "source": [
        "h = signal.firwin2(n, freq, gain, nyq=nyq)\nplot_filter(h, 'Windowed 10-Hz transition (1.0 sec)', freq, gain)"
      ], 
      "outputs": [], 
      "metadata": {
        "collapsed": false
      }
    }, 
    {
      "source": [
        "Since our lowpass is around 40 Hz with a 10 Hz transition, we can actually\nuse a shorter filter (5 cycles at 10 Hz = 0.5 sec) and still get okay\nstop-band attenuation:\n\n"
      ], 
      "cell_type": "markdown", 
      "metadata": {}
    }, 
    {
      "execution_count": null, 
      "cell_type": "code", 
      "source": [
        "n = int(round(sfreq * 0.5)) + 1\nh = signal.firwin2(n, freq, gain, nyq=nyq)\nplot_filter(h, 'Windowed 10-Hz transition (0.5 sec)', freq, gain)"
      ], 
      "outputs": [], 
      "metadata": {
        "collapsed": false
      }
    }, 
    {
      "source": [
        "But then if we shorten the filter too much (2 cycles of 10 Hz = 0.2 sec),\nour effective stop frequency gets pushed out past 60 Hz:\n\n"
      ], 
      "cell_type": "markdown", 
      "metadata": {}
    }, 
    {
      "execution_count": null, 
      "cell_type": "code", 
      "source": [
        "n = int(round(sfreq * 0.2)) + 1\nh = signal.firwin2(n, freq, gain, nyq=nyq)\nplot_filter(h, 'Windowed 10-Hz transition (0.2 sec)', freq, gain)"
      ], 
      "outputs": [], 
      "metadata": {
        "collapsed": false
      }
    }, 
    {
      "source": [
        "If we want a filter that is only 0.1 seconds long, we should probably use\nsomething more like a 25 Hz transition band (0.2 sec = 5 cycles @ 25 Hz):\n\n"
      ], 
      "cell_type": "markdown", 
      "metadata": {}
    }, 
    {
      "execution_count": null, 
      "cell_type": "code", 
      "source": [
        "trans_bandwidth = 25\nf_s = f_p + trans_bandwidth\nfreq = [0, f_p, f_s, nyq]\nh = signal.firwin2(n, freq, gain, nyq=nyq)\nplot_filter(h, 'Windowed 50-Hz transition (0.2 sec)', freq, gain)"
      ], 
      "outputs": [], 
      "metadata": {
        "collapsed": false
      }
    }, 
    {
      "source": [
        ".. _effect_on_signals:\n\nApplying FIR filters\n--------------------\nNow lets look at some practical effects of these filters by applying\nthem to some data.\n\nLet's construct a Gaussian-windowed sinusoid (i.e., Morlet imaginary part)\nplus noise (random + line). Note that the original, clean signal contains\nfrequency content in both the pass band and transition bands of our\nlow-pass filter.\n\n"
      ], 
      "cell_type": "markdown", 
      "metadata": {}
    }, 
    {
      "execution_count": null, 
      "cell_type": "code", 
      "source": [
        "dur = 10.\ncenter = 2.\nmorlet_freq = f_p\ntlim = [center - 0.2, center + 0.2]\ntticks = [tlim[0], center, tlim[1]]\nflim = [20, 70]\n\nx = np.zeros(int(sfreq * dur))\nblip = morlet(sfreq, [morlet_freq], n_cycles=7)[0].imag / 20.\nn_onset = int(center * sfreq) - len(blip) // 2\nx[n_onset:n_onset + len(blip)] += blip\nx_orig = x.copy()\n\nrng = np.random.RandomState(0)\nx += rng.randn(len(x)) / 1000.\nx += np.sin(2. * np.pi * 60. * np.arange(len(x)) / sfreq) / 2000."
      ], 
      "outputs": [], 
      "metadata": {
        "collapsed": false
      }
    }, 
    {
      "source": [
        "Filter it with a shallow cutoff, linear-phase FIR and compensate for\nthe delay:\n\n"
      ], 
      "cell_type": "markdown", 
      "metadata": {}
    }, 
    {
      "execution_count": null, 
      "cell_type": "code", 
      "source": [
        "transition_band = 0.25 * f_p\nf_s = f_p + transition_band\nfilter_dur = 5. / transition_band  # sec\nn = int(sfreq * filter_dur)\nfreq = [0., f_p, f_s, sfreq / 2.]\ngain = [1., 1., 0., 0.]\nh = signal.firwin2(n, freq, gain, nyq=sfreq / 2.)\nx_shallow = np.convolve(h, x)[len(h) // 2:]"
      ], 
      "outputs": [], 
      "metadata": {
        "collapsed": false
      }
    }, 
    {
      "source": [
        "Now let's filter it with the MNE-Python 0.12 defaults, which is a\nlong-duration, steep cutoff FIR:\n\n"
      ], 
      "cell_type": "markdown", 
      "metadata": {}
    }, 
    {
      "execution_count": null, 
      "cell_type": "code", 
      "source": [
        "transition_band = 0.5  # Hz\nf_s = f_p + transition_band\nfilter_dur = 10.  # sec\nn = int(sfreq * filter_dur)\nfreq = [0., f_p, f_s, sfreq / 2.]\ngain = [1., 1., 0., 0.]\nh = signal.firwin2(n, freq, gain, nyq=sfreq / 2.)\nx_steep = np.convolve(h, x)[len(h) // 2:]\n\nplot_filter(h, 'MNE-Python 0.12 default', freq, gain)"
      ], 
      "outputs": [], 
      "metadata": {
        "collapsed": false
      }
    }, 
    {
      "source": [
        "It has excellent frequency attenuation, but this comes at a cost of potential\nringing (long-lasting ripples) in the time domain. Ripple can occur with\nsteep filters, especially on signals with frequency content around the\ntransition band. Our Morlet wavelet signal has power in our transition band,\nand the time-domain ringing is thus more pronounced for the steep-slope,\nlong-duration filter than the shorter, shallower-slope filter:\n\n"
      ], 
      "cell_type": "markdown", 
      "metadata": {}
    }, 
    {
      "execution_count": null, 
      "cell_type": "code", 
      "source": [
        "axs = plt.subplots(2)[1]\n\n\ndef plot_signal(x, offset):\n    t = np.arange(len(x)) / sfreq\n    axs[0].plot(t, x + offset)\n    axs[0].set(xlabel='Time (sec)', xlim=t[[0, -1]])\n    box_off(axs[0])\n    X = fftpack.fft(x)\n    freqs = fftpack.fftfreq(len(x), 1. / sfreq)\n    mask = freqs >= 0\n    X = X[mask]\n    freqs = freqs[mask]\n    axs[1].plot(freqs, 20 * np.log10(np.abs(X)))\n    axs[1].set(xlim=xlim)\n\nyticks = np.arange(4) / -30.\nyticklabels = ['Original', 'Noisy', 'FIR-shallow', 'FIR-steep']\nplot_signal(x_orig, offset=yticks[0])\nplot_signal(x, offset=yticks[1])\nplot_signal(x_shallow, offset=yticks[2])\nplot_signal(x_steep, offset=yticks[3])\naxs[0].set(xlim=tlim, title='Lowpass=%d Hz' % f_p, xticks=tticks,\n           ylim=[-0.125, 0.025], yticks=yticks, yticklabels=yticklabels,)\nfor text in axs[0].get_yticklabels():\n    text.set(rotation=45, size=8)\naxs[1].set(xlim=flim, ylim=ylim, xlabel='Frequency (Hz)',\n           ylabel='Magnitude (dB)')\nbox_off(axs[0])\nbox_off(axs[1])\nmne.viz.tight_layout()\nplt.show()"
      ], 
      "outputs": [], 
      "metadata": {
        "collapsed": false
      }
    }, 
    {
      "source": [
        "IIR filters\n===========\nMNE-Python also offers IIR filtering functionality that is based on the\nmethods from :mod:`scipy.signal`. Specifically, we use the general-purpose\nfunctions :func:`scipy.signal.iirfilter` and :func:`scipy.signal.iirdesign`,\nwhich provide unified interfaces to IIR filter design.\n\nDesigning IIR filters\n---------------------\nLet's continue with our design of a 40 Hz low-pass filter, and look at\nsome trade-offs of different IIR filters.\n\nOften the default IIR filter is a `Butterworth filter`_, which is designed\nto have a *maximally flat pass-band*. Let's look at a few orders of filter,\ni.e., a few different number of coefficients used and therefore steepness\nof the filter:\n\n"
      ], 
      "cell_type": "markdown", 
      "metadata": {}
    }, 
    {
      "execution_count": null, 
      "cell_type": "code", 
      "source": [
        "sos = signal.iirfilter(2, f_p / nyq, btype='low', ftype='butter', output='sos')\nplot_filter(sos, 'Butterworth order=2', freq, gain)\n\n# Eventually this will just be from scipy signal.sosfiltfilt, but 0.18 is\n# not widely adopted yet (as of June 2016), so we use our wrapper...\nsosfiltfilt = mne.fixes.get_sosfiltfilt()\nx_shallow = sosfiltfilt(sos, x)"
      ], 
      "outputs": [], 
      "metadata": {
        "collapsed": false
      }
    }, 
    {
      "source": [
        "The falloff of this filter is not very steep.\n\n.. warning:: For brevity, we do not show the phase of these filters here.\n             In the FIR case, we can design linear-phase filters, and\n             compensate for the delay if necessary. This cannot be done\n             with IIR filters, and as the filter order increases, the\n             phase distortion near and in the transition band worsens.\n             However, if acausal (forward-backward) filtering can be used,\n             e.g. with :func:`scipy.signal.filtfilt`, these phase issues\n             can be mitigated.\n\n.. note:: Here we have made use of second-order sections (SOS)\n          by using :func:`scipy.signal.sosfilt` and, under the\n          hood, :func:`scipy.signal.zpk2sos` when passing the\n          ``output='sos'`` keyword argument to\n          :func:`scipy.signal.iirfilter`. The filter definitions\n          given in :ref:`filtering-basics` use the polynomial\n          numerator/denominator (sometimes called \"tf\") form ``(b, a)``,\n          which are theoretically equivalent to the SOS form used here.\n          In practice, however, the SOS form can give much better results\n          due to issues with numerical precision (see\n          :func:`scipy.signal.sosfilt` for an example), so SOS should be\n          used when possible to do IIR filtering.\n\nLet's increase the order, and note that now we have better attenuation,\nwith a longer impulse response:\n\n"
      ], 
      "cell_type": "markdown", 
      "metadata": {}
    }, 
    {
      "execution_count": null, 
      "cell_type": "code", 
      "source": [
        "sos = signal.iirfilter(8, f_p / nyq, btype='low', ftype='butter', output='sos')\nplot_filter(sos, 'Butterworth order=8', freq, gain)\nx_steep = sosfiltfilt(sos, x)"
      ], 
      "outputs": [], 
      "metadata": {
        "collapsed": false
      }
    }, 
    {
      "source": [
        "There are other types of IIR filters that we can use. For a complete list,\ncheck out the documentation for :func:`scipy.signal.iirdesign`. Let's\ntry a Chebychev (type I) filter, which trades off ripple in the pass-band\nto get better attenuation in the stop-band:\n\n"
      ], 
      "cell_type": "markdown", 
      "metadata": {}
    }, 
    {
      "execution_count": null, 
      "cell_type": "code", 
      "source": [
        "sos = signal.iirfilter(8, f_p / nyq, btype='low', ftype='cheby1', output='sos',\n                       rp=1)  # dB of acceptable pass-band ripple\nplot_filter(sos, 'Chebychev-1 order=8, ripple=1 dB', freq, gain)"
      ], 
      "outputs": [], 
      "metadata": {
        "collapsed": false
      }
    }, 
    {
      "source": [
        "And if we can live with even more ripple, we can get it slightly steeper,\nbut the impulse response begins to ring substantially longer (note the\ndifferent x-axis scale):\n\n"
      ], 
      "cell_type": "markdown", 
      "metadata": {}
    }, 
    {
      "execution_count": null, 
      "cell_type": "code", 
      "source": [
        "sos = signal.iirfilter(8, f_p / nyq, btype='low', ftype='cheby1', output='sos',\n                       rp=6)\nplot_filter(sos, 'Chebychev-1 order=8, ripple=6 dB', freq, gain)"
      ], 
      "outputs": [], 
      "metadata": {
        "collapsed": false
      }
    }, 
    {
      "source": [
        "Applying IIR filters\n--------------------\nNow let's look at how our shallow and steep Butterworth IIR filters\nperform on our morlet signal from before:\n\n"
      ], 
      "cell_type": "markdown", 
      "metadata": {}
    }, 
    {
      "execution_count": null, 
      "cell_type": "code", 
      "source": [
        "axs = plt.subplots(2)[1]\nyticks = np.arange(4) / -30.\nyticklabels = ['Original', 'Noisy', 'Butterworth-2', 'Butterworth-8']\nplot_signal(x_orig, offset=yticks[0])\nplot_signal(x, offset=yticks[1])\nplot_signal(x_shallow, offset=yticks[2])\nplot_signal(x_steep, offset=yticks[3])\naxs[0].set(xlim=tlim, title='Lowpass=%d Hz' % f_p, xticks=tticks,\n           ylim=[-0.125, 0.025], yticks=yticks, yticklabels=yticklabels,)\nfor text in axs[0].get_yticklabels():\n    text.set(rotation=45, size=8)\naxs[1].set(xlim=flim, ylim=ylim, xlabel='Frequency (Hz)',\n           ylabel='Magnitude (dB)')\nbox_off(axs[0])\nbox_off(axs[1])\nmne.viz.tight_layout()\nplt.show()"
      ], 
      "outputs": [], 
      "metadata": {
        "collapsed": false
      }
    }, 
    {
      "source": [
        "Filtering in MNE-Python\n=======================\nMost often, filtering in MNE-Python is done at the :class:`mne.io.Raw` level,\nand thus :func:`mne.io.Raw.filter` is used. This function under the hood\n(among other things) calls :func:`mne.filter.filter_data` to actually\nfilter the data.\n\n:func:`mne.filter.filter_data` by default applies a FIR filter designed using\n:func:`scipy.signal.firwin2`. For more information on how to use the\nMNE-Python filtering functions with real data, consult the preprocessing\ntutorial on :ref:`tut_artifacts_filter`.\n\nSummary\n=======\nWhen filtering, there are always tradeoffs that should be considered.\nOne important tradeoff is between time-domain characteristics (like ringing)\nand frequency-domain attenuation characteristics (like effective transition\nbandwidth). Filters with sharp frequency cutoffs can produce outputs that\nring for a long time when they operate on signals with frequency content\nin the transition band. In general, therefore, the wider a transition band\nthat can be tolerated, the better behaved the filter will be in the time\ndomain.\n\n"
      ], 
      "cell_type": "markdown", 
      "metadata": {}
    }, 
    {
      "source": [
        "References\n==========\n.. [1] Parks TW, Burrus CS. Digital Filter Design.\n   New York: Wiley-Interscience, 1987.\n\n.. _FIR: https://en.wikipedia.org/wiki/Finite_impulse_response\n.. _IIR: https://en.wikipedia.org/wiki/Infinite_impulse_response\n.. _sinc: https://en.wikipedia.org/wiki/Sinc_function\n.. _moving average: https://en.wikipedia.org/wiki/Moving_average\n.. _autoregression: https://en.wikipedia.org/wiki/Autoregressive_model\n.. _Remez: https://en.wikipedia.org/wiki/Remez_algorithm\n.. _scipy remez: http://scipy.github.io/devdocs/generated/scipy.signal.remez.html  # noqa\n.. _matlab firpm: http://www.mathworks.com/help/signal/ref/firpm.html\n.. _scipy firwin2: http://scipy.github.io/devdocs/generated/scipy.signal.firwin2.html  # noqa\n.. _matlab fir2: http://www.mathworks.com/help/signal/ref/fir2.html\n.. _matlab firls: http://www.mathworks.com/help/signal/ref/firls.html\n.. _Butterworth filter: https://en.wikipedia.org/wiki/Butterworth_filter\n\n"
      ], 
      "cell_type": "markdown", 
      "metadata": {}
    }
  ], 
  "metadata": {
    "kernelspec": {
      "display_name": "Python 2", 
      "name": "python2", 
      "language": "python"
    }, 
    "language_info": {
      "mimetype": "text/x-python", 
      "nbconvert_exporter": "python", 
      "name": "python", 
      "file_extension": ".py", 
      "version": "2.7.11", 
      "pygments_lexer": "ipython2", 
      "codemirror_mode": {
        "version": 2, 
        "name": "ipython"
      }
    }
  }
}